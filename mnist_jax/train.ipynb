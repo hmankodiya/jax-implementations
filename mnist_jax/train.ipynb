{
 "cells": [
  {
   "cell_type": "code",
   "execution_count": 3,
   "metadata": {},
   "outputs": [],
   "source": [
    "import numpy as np\n",
    "\n",
    "from torchvision.datasets import MNIST\n",
    "import jax\n",
    "import jax.numpy as jnp\n",
    "\n",
    "from mlp import MLP, CCE, accuracy, update, train, validate\n",
    "from dataset import DataLoader"
   ]
  },
  {
   "cell_type": "code",
   "execution_count": null,
   "metadata": {},
   "outputs": [],
   "source": []
  },
  {
   "cell_type": "code",
   "execution_count": 4,
   "metadata": {},
   "outputs": [
    {
     "data": {
      "text/plain": [
       "{'bias': [(512,), (256,), (256,), (10,)],\n",
       " 'weights': [(784, 512), (512, 256), (256, 256), (256, 10)]}"
      ]
     },
     "execution_count": 4,
     "metadata": {},
     "output_type": "execute_result"
    }
   ],
   "source": [
    "mlp = MLP()\n",
    "params = mlp.init_layer(layer_widths=[512, 256, 256])\n",
    "jax.tree.map(lambda x: x.shape, params)"
   ]
  },
  {
   "cell_type": "code",
   "execution_count": 5,
   "metadata": {},
   "outputs": [
    {
     "data": {
      "text/plain": [
       "((11, 784), (11, 10), array([0, 7, 6, 3, 4, 4, 6, 9, 6, 1, 5]))"
      ]
     },
     "execution_count": 5,
     "metadata": {},
     "output_type": "execute_result"
    }
   ],
   "source": [
    "key = jax.random.PRNGKey(seed=0)\n",
    "temp_image = jax.random.normal(key, shape=(11, 784))\n",
    "\n",
    "temp_y_indices = np.random.randint(0, 10, (11, ))\n",
    "temp_y = jnp.zeros((11, 10))\n",
    "temp_y = temp_y.at[jnp.arange(temp_y_indices.shape[0]), temp_y_indices].set(1.0)\n",
    "\n",
    "temp_image.shape, temp_y.shape, temp_y_indices"
   ]
  },
  {
   "cell_type": "code",
   "execution_count": 6,
   "metadata": {},
   "outputs": [
    {
     "data": {
      "text/plain": [
       "(11, 10)"
      ]
     },
     "execution_count": 6,
     "metadata": {},
     "output_type": "execute_result"
    }
   ],
   "source": [
    "outs = MLP.forward(params, temp_image)\n",
    "outs.shape"
   ]
  },
  {
   "cell_type": "code",
   "execution_count": 7,
   "metadata": {},
   "outputs": [
    {
     "data": {
      "text/plain": [
       "(Array(0.23043767, dtype=float32), dict_keys(['bias', 'weights']))"
      ]
     },
     "execution_count": 7,
     "metadata": {},
     "output_type": "execute_result"
    }
   ],
   "source": [
    "loss, new_params = update(params, temp_image, temp_y)\n",
    "loss, new_params.keys()"
   ]
  },
  {
   "cell_type": "code",
   "execution_count": 8,
   "metadata": {},
   "outputs": [],
   "source": [
    "train_dataset = MNIST(root='train_mnist', train=True, download=True)\n",
    "train_dataloader = DataLoader(train_dataset.data, train_dataset.targets, batch_size=6000)"
   ]
  },
  {
   "cell_type": "code",
   "execution_count": 11,
   "metadata": {},
   "outputs": [
    {
     "data": {
      "text/plain": [
       "<mlp.MLP at 0x720c0235b5b0>"
      ]
     },
     "execution_count": 11,
     "metadata": {},
     "output_type": "execute_result"
    }
   ],
   "source": [
    "jax.print(mlp)"
   ]
  },
  {
   "cell_type": "code",
   "execution_count": 9,
   "metadata": {},
   "outputs": [
    {
     "name": "stderr",
     "output_type": "stream",
     "text": [
      "Epoch: 100%|██████████| 100/100 [00:16<00:00,  5.94it/s, train_loss=0.0652]\n"
     ]
    },
    {
     "data": {
      "text/plain": [
       "[0.23033944368362427,\n",
       " 0.23019034415483475,\n",
       " 0.2300218552350998,\n",
       " 0.22984422743320465,\n",
       " 0.2296554610133171,\n",
       " 0.2294418841600418,\n",
       " 0.22919444143772125,\n",
       " 0.2289143681526184,\n",
       " 0.2286090672016144,\n",
       " 0.22828963547945022,\n",
       " 0.22795817106962205,\n",
       " 0.22760650515556335,\n",
       " 0.22722183018922806,\n",
       " 0.22678298205137254,\n",
       " 0.22624792009592057,\n",
       " 0.22562865614891053,\n",
       " 0.22498219609260559,\n",
       " 0.22430087476968766,\n",
       " 0.22357094138860703,\n",
       " 0.22278331518173217,\n",
       " 0.22192663252353667,\n",
       " 0.22098679691553116,\n",
       " 0.21990866363048553,\n",
       " 0.2185285657644272,\n",
       " 0.21701250821352006,\n",
       " 0.21539339870214463,\n",
       " 0.21361469179391862,\n",
       " 0.21164893805980683,\n",
       " 0.20947340577840806,\n",
       " 0.20706476122140885,\n",
       " 0.204399211704731,\n",
       " 0.20145314931869507,\n",
       " 0.19820394068956376,\n",
       " 0.19462998062372208,\n",
       " 0.1907206282019615,\n",
       " 0.18647219538688659,\n",
       " 0.18189695477485657,\n",
       " 0.17702219039201736,\n",
       " 0.1718883380293846,\n",
       " 0.16655167639255525,\n",
       " 0.161080938577652,\n",
       " 0.15555654019117354,\n",
       " 0.1500645250082016,\n",
       " 0.14469461888074875,\n",
       " 0.13952914923429488,\n",
       " 0.13463062196969985,\n",
       " 0.13004401698708534,\n",
       " 0.12578999996185303,\n",
       " 0.12186992913484573,\n",
       " 0.118272053450346,\n",
       " 0.11497624441981316,\n",
       " 0.11195444762706756,\n",
       " 0.10918097570538521,\n",
       " 0.10662844702601433,\n",
       " 0.1042693443596363,\n",
       " 0.10208189710974694,\n",
       " 0.10004696249961853,\n",
       " 0.09814733117818833,\n",
       " 0.09636784046888351,\n",
       " 0.09469607099890709,\n",
       " 0.09312304928898811,\n",
       " 0.09163895845413209,\n",
       " 0.09023613855242729,\n",
       " 0.088908239454031,\n",
       " 0.08764899596571922,\n",
       " 0.08645285367965698,\n",
       " 0.08531436175107956,\n",
       " 0.08423042073845863,\n",
       " 0.08319684639573097,\n",
       " 0.08220951929688454,\n",
       " 0.08126602619886399,\n",
       " 0.08036455810070038,\n",
       " 0.07950170636177063,\n",
       " 0.07867464497685432,\n",
       " 0.07788170278072357,\n",
       " 0.07712128832936287,\n",
       " 0.07639180347323418,\n",
       " 0.07569106593728066,\n",
       " 0.07501687183976173,\n",
       " 0.07436901926994324,\n",
       " 0.07374622523784638,\n",
       " 0.07314656600356102,\n",
       " 0.07256812751293182,\n",
       " 0.07200991213321686,\n",
       " 0.0714714802801609,\n",
       " 0.0709512934088707,\n",
       " 0.070449198782444,\n",
       " 0.06996326223015785,\n",
       " 0.0694940708577633,\n",
       " 0.06904008835554123,\n",
       " 0.06860033497214317,\n",
       " 0.06817407086491585,\n",
       " 0.06776097565889358,\n",
       " 0.06736104302108288,\n",
       " 0.06697274819016456,\n",
       " 0.06659572795033455,\n",
       " 0.06623004339635372,\n",
       " 0.0658751841634512,\n",
       " 0.06553086750209332,\n",
       " 0.06519569531083107]"
      ]
     },
     "execution_count": 9,
     "metadata": {},
     "output_type": "execute_result"
    }
   ],
   "source": [
    "loss = train(mlp, train_dataloader, epochs=100)\n",
    "loss"
   ]
  },
  {
   "cell_type": "code",
   "execution_count": 10,
   "metadata": {},
   "outputs": [
    {
     "name": "stdout",
     "output_type": "stream",
     "text": [
      "Validating\n"
     ]
    },
    {
     "data": {
      "text/plain": [
       "0.8051166534423828"
      ]
     },
     "execution_count": 10,
     "metadata": {},
     "output_type": "execute_result"
    }
   ],
   "source": [
    "val_dataloader = DataLoader(train_dataset.data,\n",
    "                            train_dataset.targets,\n",
    "                            return_labels=True,\n",
    "                            batch_size=6000)\n",
    "val_acc = validate(mlp, val_dataloader)\n",
    "val_acc"
   ]
  },
  {
   "cell_type": "code",
   "execution_count": null,
   "metadata": {},
   "outputs": [],
   "source": [
    "test_dataset = MNIST(root=\"test_mnist\", train=False, download=True)\n",
    "test_dataloader = DataLoader(test_dataset.data,\n",
    "                             test_dataset.targets,\n",
    "                             return_labels=True,\n",
    "                             batch_size=100)"
   ]
  },
  {
   "cell_type": "code",
   "execution_count": null,
   "metadata": {},
   "outputs": [],
   "source": [
    "test_acc = validate(mlp, test_dataloader)\n",
    "test_acc"
   ]
  }
 ],
 "metadata": {
  "kernelspec": {
   "display_name": "jax",
   "language": "python",
   "name": "python3"
  },
  "language_info": {
   "codemirror_mode": {
    "name": "ipython",
    "version": 3
   },
   "file_extension": ".py",
   "mimetype": "text/x-python",
   "name": "python",
   "nbconvert_exporter": "python",
   "pygments_lexer": "ipython3",
   "version": "3.10.15"
  }
 },
 "nbformat": 4,
 "nbformat_minor": 2
}
